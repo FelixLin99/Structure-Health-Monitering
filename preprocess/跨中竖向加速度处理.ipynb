{
 "cells": [
  {
   "cell_type": "code",
   "execution_count": 1,
   "metadata": {},
   "outputs": [],
   "source": [
    "import numpy as np\n",
    "import pandas as pd\n",
    "import datetime\n",
    "import os\n",
    "import matplotlib.pyplot as plt\n",
    "import time"
   ]
  },
  {
   "cell_type": "markdown",
   "metadata": {},
   "source": [
    "# 1 数据读取\n",
    " - 每秒所有采集数据放置在一行，数据间用空格分隔，不同类型数据（例如空间变位的三个方向、风速和风向）之间用逗号分隔"
   ]
  },
  {
   "cell_type": "markdown",
   "metadata": {},
   "source": [
    "#### 1.1 读入数据"
   ]
  },
  {
   "cell_type": "code",
   "execution_count": 7,
   "metadata": {},
   "outputs": [],
   "source": [
    "# 读取数据，返回dataframe格式\n",
    "def readFile(path):\n",
    "    return pd.read_csv(path)\n",
    "path = r\"..\\数据\\浦仪夹江大桥数据4.27\\主跨跨中竖向加速度LFA-G-V-04.csv\"\n",
    "df = readFile(path)"
   ]
  },
  {
   "cell_type": "code",
   "execution_count": 8,
   "metadata": {},
   "outputs": [
    {
     "data": {
      "text/html": [
       "<div>\n",
       "<style scoped>\n",
       "    .dataframe tbody tr th:only-of-type {\n",
       "        vertical-align: middle;\n",
       "    }\n",
       "\n",
       "    .dataframe tbody tr th {\n",
       "        vertical-align: top;\n",
       "    }\n",
       "\n",
       "    .dataframe thead th {\n",
       "        text-align: right;\n",
       "    }\n",
       "</style>\n",
       "<table border=\"1\" class=\"dataframe\">\n",
       "  <thead>\n",
       "    <tr style=\"text-align: right;\">\n",
       "      <th></th>\n",
       "      <th>测点编号</th>\n",
       "      <th>采集时间</th>\n",
       "      <th>加速度</th>\n",
       "    </tr>\n",
       "  </thead>\n",
       "  <tbody>\n",
       "    <tr>\n",
       "      <th>0</th>\n",
       "      <td>LFA-G-V-04</td>\n",
       "      <td>2021-04-27 19:00:00</td>\n",
       "      <td>0.005440981898988996 0.00799138971737453 0.006...</td>\n",
       "    </tr>\n",
       "    <tr>\n",
       "      <th>1</th>\n",
       "      <td>LFA-G-V-04</td>\n",
       "      <td>2021-04-27 19:00:01</td>\n",
       "      <td>-0.00897731099809919 -7.68974849155971E-4 0.00...</td>\n",
       "    </tr>\n",
       "    <tr>\n",
       "      <th>2</th>\n",
       "      <td>LFA-G-V-04</td>\n",
       "      <td>2021-04-27 19:00:02</td>\n",
       "      <td>-7.172869784491403E-4 0.0027879617043903896 0....</td>\n",
       "    </tr>\n",
       "    <tr>\n",
       "      <th>3</th>\n",
       "      <td>LFA-G-V-04</td>\n",
       "      <td>2021-04-27 19:00:03</td>\n",
       "      <td>0.0022783645561763217 0.010036328009196691 0.0...</td>\n",
       "    </tr>\n",
       "    <tr>\n",
       "      <th>4</th>\n",
       "      <td>LFA-G-V-04</td>\n",
       "      <td>2021-04-27 19:00:04</td>\n",
       "      <td>-0.0020533131701605664 -0.005288170464336872 -...</td>\n",
       "    </tr>\n",
       "  </tbody>\n",
       "</table>\n",
       "</div>"
      ],
      "text/plain": [
       "         测点编号                 采集时间  \\\n",
       "0  LFA-G-V-04  2021-04-27 19:00:00   \n",
       "1  LFA-G-V-04  2021-04-27 19:00:01   \n",
       "2  LFA-G-V-04  2021-04-27 19:00:02   \n",
       "3  LFA-G-V-04  2021-04-27 19:00:03   \n",
       "4  LFA-G-V-04  2021-04-27 19:00:04   \n",
       "\n",
       "                                                 加速度  \n",
       "0  0.005440981898988996 0.00799138971737453 0.006...  \n",
       "1  -0.00897731099809919 -7.68974849155971E-4 0.00...  \n",
       "2  -7.172869784491403E-4 0.0027879617043903896 0....  \n",
       "3  0.0022783645561763217 0.010036328009196691 0.0...  \n",
       "4  -0.0020533131701605664 -0.005288170464336872 -...  "
      ]
     },
     "execution_count": 8,
     "metadata": {},
     "output_type": "execute_result"
    }
   ],
   "source": [
    "df.head()"
   ]
  },
  {
   "cell_type": "code",
   "execution_count": 9,
   "metadata": {},
   "outputs": [
    {
     "data": {
      "text/html": [
       "<div>\n",
       "<style scoped>\n",
       "    .dataframe tbody tr th:only-of-type {\n",
       "        vertical-align: middle;\n",
       "    }\n",
       "\n",
       "    .dataframe tbody tr th {\n",
       "        vertical-align: top;\n",
       "    }\n",
       "\n",
       "    .dataframe thead th {\n",
       "        text-align: right;\n",
       "    }\n",
       "</style>\n",
       "<table border=\"1\" class=\"dataframe\">\n",
       "  <thead>\n",
       "    <tr style=\"text-align: right;\">\n",
       "      <th></th>\n",
       "      <th>测点编号</th>\n",
       "      <th>采集时间</th>\n",
       "      <th>加速度</th>\n",
       "    </tr>\n",
       "  </thead>\n",
       "  <tbody>\n",
       "    <tr>\n",
       "      <th>162376</th>\n",
       "      <td>LFA-G-V-04</td>\n",
       "      <td>2021-04-29 18:59:40</td>\n",
       "      <td>-0.003249632673604148 1.1848126138959613E-4 0....</td>\n",
       "    </tr>\n",
       "    <tr>\n",
       "      <th>162377</th>\n",
       "      <td>LFA-G-V-04</td>\n",
       "      <td>2021-04-29 18:59:41</td>\n",
       "      <td>0.0016428378011499134 0.0012362232697861535 -6...</td>\n",
       "    </tr>\n",
       "    <tr>\n",
       "      <th>162378</th>\n",
       "      <td>LFA-G-V-04</td>\n",
       "      <td>2021-04-29 18:59:42</td>\n",
       "      <td>-9.963171822684152E-5 0.0010411364691598076 9....</td>\n",
       "    </tr>\n",
       "    <tr>\n",
       "      <th>162379</th>\n",
       "      <td>LFA-G-V-04</td>\n",
       "      <td>2021-04-29 18:59:43</td>\n",
       "      <td>-0.001939457654953003 -0.0018544435501098634 -...</td>\n",
       "    </tr>\n",
       "    <tr>\n",
       "      <th>162380</th>\n",
       "      <td>LFA-G-V-04</td>\n",
       "      <td>2021-04-29 18:59:44</td>\n",
       "      <td>-0.0014793668906869636 -0.002895401268532234 -...</td>\n",
       "    </tr>\n",
       "  </tbody>\n",
       "</table>\n",
       "</div>"
      ],
      "text/plain": [
       "              测点编号                 采集时间  \\\n",
       "162376  LFA-G-V-04  2021-04-29 18:59:40   \n",
       "162377  LFA-G-V-04  2021-04-29 18:59:41   \n",
       "162378  LFA-G-V-04  2021-04-29 18:59:42   \n",
       "162379  LFA-G-V-04  2021-04-29 18:59:43   \n",
       "162380  LFA-G-V-04  2021-04-29 18:59:44   \n",
       "\n",
       "                                                      加速度  \n",
       "162376  -0.003249632673604148 1.1848126138959613E-4 0....  \n",
       "162377  0.0016428378011499134 0.0012362232697861535 -6...  \n",
       "162378  -9.963171822684152E-5 0.0010411364691598076 9....  \n",
       "162379  -0.001939457654953003 -0.0018544435501098634 -...  \n",
       "162380  -0.0014793668906869636 -0.002895401268532234 -...  "
      ]
     },
     "execution_count": 9,
     "metadata": {},
     "output_type": "execute_result"
    }
   ],
   "source": [
    "df.tail()"
   ]
  },
  {
   "cell_type": "markdown",
   "metadata": {},
   "source": [
    "#### 1.2  数据校验"
   ]
  },
  {
   "cell_type": "code",
   "execution_count": 10,
   "metadata": {},
   "outputs": [
    {
     "data": {
      "text/html": [
       "<div>\n",
       "<style scoped>\n",
       "    .dataframe tbody tr th:only-of-type {\n",
       "        vertical-align: middle;\n",
       "    }\n",
       "\n",
       "    .dataframe tbody tr th {\n",
       "        vertical-align: top;\n",
       "    }\n",
       "\n",
       "    .dataframe thead th {\n",
       "        text-align: right;\n",
       "    }\n",
       "</style>\n",
       "<table border=\"1\" class=\"dataframe\">\n",
       "  <thead>\n",
       "    <tr style=\"text-align: right;\">\n",
       "      <th></th>\n",
       "      <th>测点编号</th>\n",
       "      <th>采集时间</th>\n",
       "      <th>加速度</th>\n",
       "    </tr>\n",
       "  </thead>\n",
       "  <tbody>\n",
       "    <tr>\n",
       "      <th>0</th>\n",
       "      <td>LFA-G-V-04</td>\n",
       "      <td>2021-04-27 19:00:00</td>\n",
       "      <td>[0.005440981898988996, 0.00799138971737453, 0....</td>\n",
       "    </tr>\n",
       "    <tr>\n",
       "      <th>1</th>\n",
       "      <td>LFA-G-V-04</td>\n",
       "      <td>2021-04-27 19:00:01</td>\n",
       "      <td>[-0.00897731099809919, -0.000768974849155971, ...</td>\n",
       "    </tr>\n",
       "    <tr>\n",
       "      <th>2</th>\n",
       "      <td>LFA-G-V-04</td>\n",
       "      <td>2021-04-27 19:00:02</td>\n",
       "      <td>[-0.0007172869784491403, 0.0027879617043903896...</td>\n",
       "    </tr>\n",
       "    <tr>\n",
       "      <th>3</th>\n",
       "      <td>LFA-G-V-04</td>\n",
       "      <td>2021-04-27 19:00:03</td>\n",
       "      <td>[0.0022783645561763217, 0.010036328009196691, ...</td>\n",
       "    </tr>\n",
       "    <tr>\n",
       "      <th>4</th>\n",
       "      <td>LFA-G-V-04</td>\n",
       "      <td>2021-04-27 19:00:04</td>\n",
       "      <td>[-0.0020533131701605664, -0.005288170464336872...</td>\n",
       "    </tr>\n",
       "  </tbody>\n",
       "</table>\n",
       "</div>"
      ],
      "text/plain": [
       "         测点编号                采集时间  \\\n",
       "0  LFA-G-V-04 2021-04-27 19:00:00   \n",
       "1  LFA-G-V-04 2021-04-27 19:00:01   \n",
       "2  LFA-G-V-04 2021-04-27 19:00:02   \n",
       "3  LFA-G-V-04 2021-04-27 19:00:03   \n",
       "4  LFA-G-V-04 2021-04-27 19:00:04   \n",
       "\n",
       "                                                 加速度  \n",
       "0  [0.005440981898988996, 0.00799138971737453, 0....  \n",
       "1  [-0.00897731099809919, -0.000768974849155971, ...  \n",
       "2  [-0.0007172869784491403, 0.0027879617043903896...  \n",
       "3  [0.0022783645561763217, 0.010036328009196691, ...  \n",
       "4  [-0.0020533131701605664, -0.005288170464336872...  "
      ]
     },
     "execution_count": 10,
     "metadata": {},
     "output_type": "execute_result"
    }
   ],
   "source": [
    "# 数据类型转换\n",
    "def change_datatype(df):\n",
    "    df[\"加速度\"] = df[\"加速度\"].apply(lambda x: np.array(x.split(\" \"), dtype = float))\n",
    "    df[\"采集时间\"] = df[\"采集时间\"].apply(lambda x: datetime.datetime.strptime(x,'%Y-%m-%d %H:%M:%S'))\n",
    "    return df\n",
    "df = change_datatype(df)\n",
    "df.head()"
   ]
  },
  {
   "cell_type": "code",
   "execution_count": 11,
   "metadata": {},
   "outputs": [],
   "source": [
    "def data_verification(df):\n",
    "    #统计每秒钟内的采样频率\n",
    "    df[\"每秒采样频率\"] = df[\"加速度\"].apply(lambda x: len(x))\n",
    "    print(df[\"每秒采样频率\"].describe() ,\"\\n\")\n",
    "    \n",
    "    # 校验每小时漏采或多采的情况\n",
    "    tmp_Series = df[\"采集时间\"].apply(lambda x: x.strftime(\"%Y-%m-%d %H时\")).value_counts()\n",
    "    tmp_Series.index = [datetime.datetime.strptime(x[:-1],'%Y-%m-%d %H') for x in tmp_Series.index]\n",
    "    tmp_Series = tmp_Series - 60*60  #（正常情况下有3600条数据）\n",
    "    print(tmp_Series)\n",
    "    tmp_Series = tmp_Series.sort_index()\n",
    "\n",
    "    plt.rcParams['font.sans-serif'] = ['KaiTi'] # 指定默认字体\n",
    "    plt.rcParams['axes.unicode_minus'] = False # 解决保存图像是负号'-'显示为方块的问题\n",
    "    plt.figure (figsize= (15,4))\n",
    "    plt.bar(x = tmp_Series.index[:-2], height = tmp_Series.values[:-2], width = 0.041)\n",
    "    plt.xlabel(\"Time\",fontsize='10')\n",
    "    plt.ylabel(\"Bias\",fontsize='10')\n",
    "    plt.title(\"每小时漏采或多采的情况\",fontsize='20')\n",
    "    plt.plot()"
   ]
  },
  {
   "cell_type": "code",
   "execution_count": 12,
   "metadata": {},
   "outputs": [
    {
     "name": "stdout",
     "output_type": "stream",
     "text": [
      "count    162381.000000\n",
      "mean         19.999920\n",
      "std           0.029882\n",
      "min           8.000000\n",
      "25%          20.000000\n",
      "50%          20.000000\n",
      "75%          20.000000\n",
      "max          20.000000\n",
      "Name: 每秒采样频率, dtype: float64 \n",
      "\n",
      "2021-04-29 09:00:00       1\n",
      "2021-04-28 03:00:00       1\n",
      "2021-04-28 05:00:00       1\n",
      "2021-04-28 17:00:00       0\n",
      "2021-04-28 11:00:00       0\n",
      "2021-04-29 07:00:00       0\n",
      "2021-04-29 11:00:00       0\n",
      "2021-04-29 13:00:00       0\n",
      "2021-04-28 21:00:00       0\n",
      "2021-04-28 07:00:00       0\n",
      "2021-04-29 01:00:00       0\n",
      "2021-04-28 23:00:00       0\n",
      "2021-04-28 19:00:00       0\n",
      "2021-04-29 05:00:00       0\n",
      "2021-04-28 09:00:00       0\n",
      "2021-04-28 01:00:00       0\n",
      "2021-04-27 21:00:00       0\n",
      "2021-04-29 03:00:00       0\n",
      "2021-04-28 13:00:00       0\n",
      "2021-04-27 19:00:00       0\n",
      "2021-04-28 15:00:00       0\n",
      "2021-04-27 23:00:00      -1\n",
      "2021-04-29 10:00:00      -2\n",
      "2021-04-28 00:00:00      -2\n",
      "2021-04-28 10:00:00      -2\n",
      "2021-04-27 22:00:00      -2\n",
      "2021-04-28 16:00:00      -3\n",
      "2021-04-29 04:00:00      -3\n",
      "2021-04-28 02:00:00      -3\n",
      "2021-04-28 12:00:00      -3\n",
      "2021-04-28 14:00:00      -3\n",
      "2021-04-27 20:00:00      -3\n",
      "2021-04-28 04:00:00      -3\n",
      "2021-04-29 12:00:00      -3\n",
      "2021-04-28 08:00:00      -3\n",
      "2021-04-28 20:00:00      -4\n",
      "2021-04-28 18:00:00      -4\n",
      "2021-04-29 14:00:00      -4\n",
      "2021-04-29 06:00:00      -4\n",
      "2021-04-29 00:00:00      -4\n",
      "2021-04-29 02:00:00      -4\n",
      "2021-04-29 08:00:00      -5\n",
      "2021-04-28 06:00:00      -5\n",
      "2021-04-28 22:00:00      -5\n",
      "2021-04-29 15:00:00    -461\n",
      "2021-04-29 18:00:00   -2686\n",
      "Name: 采集时间, dtype: int64\n"
     ]
    },
    {
     "data": {
      "image/png": "[encoded data removed]",
      "text/plain": [
       "<Figure size 1080x288 with 1 Axes>"
      ]
     },
     "metadata": {
      "needs_background": "light"
     },
     "output_type": "display_data"
    }
   ],
   "source": [
    "data_verification(df)"
   ]
  },
  {
   "cell_type": "markdown",
   "metadata": {},
   "source": [
    " - 采样频率为20，但个别秒存在少采的情况\n",
    " - 采样时间以一秒为单位增加，每小时应该存在7200条数据，但实际上存在偏差，特别是4.29日 15点的数据"
   ]
  },
  {
   "cell_type": "markdown",
   "metadata": {},
   "source": [
    "# 2 数据预处理\n",
    " - 针对数据校验的结果，对数据进行进一步处理"
   ]
  },
  {
   "cell_type": "markdown",
   "metadata": {},
   "source": [
    "#### 2.1 数据展开"
   ]
  },
  {
   "cell_type": "code",
   "execution_count": 13,
   "metadata": {},
   "outputs": [],
   "source": [
    "df.sort_values(by=\"采集时间\",axis=0,ascending=True,inplace=True)\n",
    "df.drop_duplicates(subset=['采集时间'], keep='first', inplace=True)\n",
    "df.reset_index(inplace=True)\n",
    "del df['index']"
   ]
  },
  {
   "cell_type": "code",
   "execution_count": 14,
   "metadata": {},
   "outputs": [
    {
     "data": {
      "text/html": [
       "<div>\n",
       "<style scoped>\n",
       "    .dataframe tbody tr th:only-of-type {\n",
       "        vertical-align: middle;\n",
       "    }\n",
       "\n",
       "    .dataframe tbody tr th {\n",
       "        vertical-align: top;\n",
       "    }\n",
       "\n",
       "    .dataframe thead th {\n",
       "        text-align: right;\n",
       "    }\n",
       "</style>\n",
       "<table border=\"1\" class=\"dataframe\">\n",
       "  <thead>\n",
       "    <tr style=\"text-align: right;\">\n",
       "      <th></th>\n",
       "      <th>测点编号</th>\n",
       "      <th>采集时间</th>\n",
       "      <th>加速度</th>\n",
       "      <th>每秒采样频率</th>\n",
       "    </tr>\n",
       "  </thead>\n",
       "  <tbody>\n",
       "    <tr>\n",
       "      <th>0</th>\n",
       "      <td>LFA-G-V-04</td>\n",
       "      <td>2021-04-27 19:00:00</td>\n",
       "      <td>[0.005440981898988996, 0.00799138971737453, 0....</td>\n",
       "      <td>20</td>\n",
       "    </tr>\n",
       "    <tr>\n",
       "      <th>1</th>\n",
       "      <td>LFA-G-V-04</td>\n",
       "      <td>2021-04-27 19:00:01</td>\n",
       "      <td>[-0.00897731099809919, -0.000768974849155971, ...</td>\n",
       "      <td>20</td>\n",
       "    </tr>\n",
       "    <tr>\n",
       "      <th>2</th>\n",
       "      <td>LFA-G-V-04</td>\n",
       "      <td>2021-04-27 19:00:02</td>\n",
       "      <td>[-0.0007172869784491403, 0.0027879617043903896...</td>\n",
       "      <td>20</td>\n",
       "    </tr>\n",
       "    <tr>\n",
       "      <th>3</th>\n",
       "      <td>LFA-G-V-04</td>\n",
       "      <td>2021-04-27 19:00:03</td>\n",
       "      <td>[0.0022783645561763217, 0.010036328009196691, ...</td>\n",
       "      <td>20</td>\n",
       "    </tr>\n",
       "    <tr>\n",
       "      <th>4</th>\n",
       "      <td>LFA-G-V-04</td>\n",
       "      <td>2021-04-27 19:00:04</td>\n",
       "      <td>[-0.0020533131701605664, -0.005288170464336872...</td>\n",
       "      <td>20</td>\n",
       "    </tr>\n",
       "  </tbody>\n",
       "</table>\n",
       "</div>"
      ],
      "text/plain": [
       "         测点编号                采集时间  \\\n",
       "0  LFA-G-V-04 2021-04-27 19:00:00   \n",
       "1  LFA-G-V-04 2021-04-27 19:00:01   \n",
       "2  LFA-G-V-04 2021-04-27 19:00:02   \n",
       "3  LFA-G-V-04 2021-04-27 19:00:03   \n",
       "4  LFA-G-V-04 2021-04-27 19:00:04   \n",
       "\n",
       "                                                 加速度  每秒采样频率  \n",
       "0  [0.005440981898988996, 0.00799138971737453, 0....      20  \n",
       "1  [-0.00897731099809919, -0.000768974849155971, ...      20  \n",
       "2  [-0.0007172869784491403, 0.0027879617043903896...      20  \n",
       "3  [0.0022783645561763217, 0.010036328009196691, ...      20  \n",
       "4  [-0.0020533131701605664, -0.005288170464336872...      20  "
      ]
     },
     "execution_count": 14,
     "metadata": {},
     "output_type": "execute_result"
    }
   ],
   "source": [
    "df.head()"
   ]
  },
  {
   "cell_type": "code",
   "execution_count": 15,
   "metadata": {},
   "outputs": [],
   "source": [
    "##############################################################\n",
    "# @desc: 对数据的每一行进行处理，返回dataframe\n",
    "##############################################################\n",
    "def produce_unit(x):\n",
    "    # 生成时间序列\n",
    "    time_list = pd.date_range(start=x[\"采集时间\"], periods=20, freq='50ms')\n",
    "    # 生成加速度序列\n",
    "    accl_list = x[\"加速度\"]\n",
    "    if len(accl_list) < 20:\n",
    "        nan_list = np.full(20-len(accl_list), np.nan)\n",
    "        accl_list = np.append(accl_list,nan_list)\n",
    "    return pd.DataFrame({'采集时间':time_list,'加速度':accl_list})\n",
    "    \n",
    "##############################################################\n",
    "# @desc: 对数据的每一行进行处理，返回dataframe\n",
    "# @dependencies: produce_unit\n",
    "##############################################################\n",
    "def prepossessing(df):\n",
    "    intermediary = df.apply(lambda x: produce_unit(x), axis = 1, result_type = 'reduce')  # intermediary是一个Seriess，但每个数据是一个dataFrame\n",
    "    result = intermediary[0]   # 初始化\n",
    "    for i in range(1, len(intermediary)):\n",
    "        # 判断是否不连续\n",
    "        intervel = (intermediary[i][\"采集时间\"][0] - intermediary[i-1][\"采集时间\"][0]).seconds\n",
    "        if (intervel > 1):\n",
    "            adding = pd.DataFrame(\n",
    "                {'采集时间':pd.date_range(start=intermediary[i-1][\"采集时间\"][0] + datetime.timedelta(minutes=1), periods=int(intervel -1)*20, freq='50ms'),\n",
    "                 '加速度':np.full(int(intervel-1)*20, np.nan)\n",
    "                }\n",
    "            ) \n",
    "            result = pd.concat([result,adding,intermediary[i]])\n",
    "        else:\n",
    "            result = pd.concat([result,intermediary[i]])\n",
    "    result.reset_index(inplace = True)\n",
    "    del result['index']\n",
    "    return result"
   ]
  },
  {
   "cell_type": "code",
   "execution_count": 16,
   "metadata": {},
   "outputs": [],
   "source": [
    "disposed_df = df.copy()\n",
    "disposed_df = prepossessing(disposed_df)"
   ]
  },
  {
   "cell_type": "code",
   "execution_count": 17,
   "metadata": {},
   "outputs": [],
   "source": [
    "disposed_df.to_csv('..\\数据\\浦仪夹江大桥数据4.27\\disposed\\跨中竖向加速度.csv')"
   ]
  },
  {
   "cell_type": "markdown",
   "metadata": {},
   "source": [
    "#### 2.2 归一化"
   ]
  },
  {
   "cell_type": "code",
   "execution_count": 2,
   "metadata": {},
   "outputs": [],
   "source": [
    "disposed_df = pd.read_csv('..\\数据\\浦仪夹江大桥数据5.4\\disposed\\跨中竖向加速度.csv',index_col=False)\n",
    "del disposed_df['Unnamed: 0']\n",
    "\n",
    "# def normalization(df,columns=[]):\n",
    "#     for col in columns:\n",
    "#         df[columns] = df[columns] / (df[columns].max() - df[columns].min())\n",
    "#     return df\n",
    "\n",
    "# cols = ['加速度']\n",
    "# disposed_df = normalization(disposed_df,cols)"
   ]
  },
  {
   "cell_type": "code",
   "execution_count": 4,
   "metadata": {},
   "outputs": [
    {
     "data": {
      "text/html": [
       "<div>\n",
       "<style scoped>\n",
       "    .dataframe tbody tr th:only-of-type {\n",
       "        vertical-align: middle;\n",
       "    }\n",
       "\n",
       "    .dataframe tbody tr th {\n",
       "        vertical-align: top;\n",
       "    }\n",
       "\n",
       "    .dataframe thead th {\n",
       "        text-align: right;\n",
       "    }\n",
       "</style>\n",
       "<table border=\"1\" class=\"dataframe\">\n",
       "  <thead>\n",
       "    <tr style=\"text-align: right;\">\n",
       "      <th></th>\n",
       "      <th>采集时间</th>\n",
       "      <th>加速度</th>\n",
       "    </tr>\n",
       "  </thead>\n",
       "  <tbody>\n",
       "    <tr>\n",
       "      <th>0</th>\n",
       "      <td>2021-05-04 00:00:00.000</td>\n",
       "      <td>0.000454</td>\n",
       "    </tr>\n",
       "    <tr>\n",
       "      <th>1</th>\n",
       "      <td>2021-05-04 00:00:00.050</td>\n",
       "      <td>-0.001200</td>\n",
       "    </tr>\n",
       "    <tr>\n",
       "      <th>2</th>\n",
       "      <td>2021-05-04 00:00:00.100</td>\n",
       "      <td>0.000062</td>\n",
       "    </tr>\n",
       "    <tr>\n",
       "      <th>3</th>\n",
       "      <td>2021-05-04 00:00:00.150</td>\n",
       "      <td>-0.000155</td>\n",
       "    </tr>\n",
       "    <tr>\n",
       "      <th>4</th>\n",
       "      <td>2021-05-04 00:00:00.200</td>\n",
       "      <td>-0.000229</td>\n",
       "    </tr>\n",
       "  </tbody>\n",
       "</table>\n",
       "</div>"
      ],
      "text/plain": [
       "                      采集时间       加速度\n",
       "0  2021-05-04 00:00:00.000  0.000454\n",
       "1  2021-05-04 00:00:00.050 -0.001200\n",
       "2  2021-05-04 00:00:00.100  0.000062\n",
       "3  2021-05-04 00:00:00.150 -0.000155\n",
       "4  2021-05-04 00:00:00.200 -0.000229"
      ]
     },
     "execution_count": 4,
     "metadata": {},
     "output_type": "execute_result"
    }
   ],
   "source": [
    "disposed_df.head()"
   ]
  },
  {
   "cell_type": "markdown",
   "metadata": {},
   "source": [
    "#### 2.3 原始数据可视化"
   ]
  },
  {
   "cell_type": "code",
   "execution_count": 5,
   "metadata": {},
   "outputs": [
    {
     "data": {
      "text/plain": [
       "Text(0.5, 1.0, '竖向加速度')"
      ]
     },
     "execution_count": 5,
     "metadata": {},
     "output_type": "execute_result"
    },
    {
     "data": {
      "image/png": "[encoded data removed]",
      "text/plain": [
       "<Figure size 864x288 with 1 Axes>"
      ]
     },
     "metadata": {
      "needs_background": "light"
     },
     "output_type": "display_data"
    }
   ],
   "source": [
    "disposed_df['采集时间'] = disposed_df[\"采集时间\"].apply(lambda x: datetime.datetime.strptime(x,'%Y-%m-%d %H:%M:%S.%f')) \n",
    "disposed_df.index = disposed_df['采集时间']\n",
    "\n",
    "plt.rcParams['font.sans-serif']=['SimHei'] #用来正常显示中文标签\n",
    "plt.rcParams['axes.unicode_minus']=False #用来正常显示负号\n",
    "\n",
    "disposed_df['加速度'].plot(figsize=(12,4))\n",
    "plt.title('竖向加速度')"
   ]
  },
  {
   "cell_type": "code",
   "execution_count": null,
   "metadata": {},
   "outputs": [],
   "source": []
  },
  {
   "cell_type": "markdown",
   "metadata": {},
   "source": [
    "# 3 数据分析"
   ]
  },
  {
   "cell_type": "markdown",
   "metadata": {},
   "source": [
    "#### 3.1 以十分钟为单位划分数据集\n",
    " - 计算窗体时间内的标准差、平均值"
   ]
  },
  {
   "cell_type": "code",
   "execution_count": 5,
   "metadata": {},
   "outputs": [],
   "source": [
    "############################################################\n",
    "# @desc：获取窗体时间内的统计值\n",
    "# @param：\n",
    "#     df：数据集\n",
    "#     interval：窗体事件(/s)\n",
    "############################################################\n",
    "def get_stats(df, interval = 60*10, freq = 20):\n",
    "    df[\"class\"] = np.array(df.index.values / (freq*interval), dtype=int)\n",
    "    result = df.groupby('class').agg({'采集时间':min, '加速度':[np.mean,np.std]}) \n",
    "    result.columns = ['采集时间','竖向加速度平均值','竖向加速度标准差']\n",
    "    return result"
   ]
  },
  {
   "cell_type": "code",
   "execution_count": 6,
   "metadata": {},
   "outputs": [],
   "source": [
    "stats = get_stats(disposed_df, interval = 60*10, freq = 20)"
   ]
  },
  {
   "cell_type": "code",
   "execution_count": 7,
   "metadata": {},
   "outputs": [
    {
     "data": {
      "text/html": [
       "<div>\n",
       "<style scoped>\n",
       "    .dataframe tbody tr th:only-of-type {\n",
       "        vertical-align: middle;\n",
       "    }\n",
       "\n",
       "    .dataframe tbody tr th {\n",
       "        vertical-align: top;\n",
       "    }\n",
       "\n",
       "    .dataframe thead th {\n",
       "        text-align: right;\n",
       "    }\n",
       "</style>\n",
       "<table border=\"1\" class=\"dataframe\">\n",
       "  <thead>\n",
       "    <tr style=\"text-align: right;\">\n",
       "      <th></th>\n",
       "      <th>采集时间</th>\n",
       "      <th>竖向加速度平均值</th>\n",
       "      <th>竖向加速度标准差</th>\n",
       "    </tr>\n",
       "    <tr>\n",
       "      <th>class</th>\n",
       "      <th></th>\n",
       "      <th></th>\n",
       "      <th></th>\n",
       "    </tr>\n",
       "  </thead>\n",
       "  <tbody>\n",
       "    <tr>\n",
       "      <th>0</th>\n",
       "      <td>2021-05-04 00:00:00.000</td>\n",
       "      <td>-9.050184e-07</td>\n",
       "      <td>0.002418</td>\n",
       "    </tr>\n",
       "    <tr>\n",
       "      <th>1</th>\n",
       "      <td>2021-05-04 00:10:00.000</td>\n",
       "      <td>1.054820e-06</td>\n",
       "      <td>0.003812</td>\n",
       "    </tr>\n",
       "    <tr>\n",
       "      <th>2</th>\n",
       "      <td>2021-05-04 00:20:00.000</td>\n",
       "      <td>-1.285649e-06</td>\n",
       "      <td>0.002596</td>\n",
       "    </tr>\n",
       "    <tr>\n",
       "      <th>3</th>\n",
       "      <td>2021-05-04 00:30:00.000</td>\n",
       "      <td>1.401841e-06</td>\n",
       "      <td>0.002172</td>\n",
       "    </tr>\n",
       "    <tr>\n",
       "      <th>4</th>\n",
       "      <td>2021-05-04 00:40:00.000</td>\n",
       "      <td>1.703777e-06</td>\n",
       "      <td>0.004827</td>\n",
       "    </tr>\n",
       "    <tr>\n",
       "      <th>...</th>\n",
       "      <td>...</td>\n",
       "      <td>...</td>\n",
       "      <td>...</td>\n",
       "    </tr>\n",
       "    <tr>\n",
       "      <th>283</th>\n",
       "      <td>2021-05-05 23:10:00.000</td>\n",
       "      <td>-1.190270e-05</td>\n",
       "      <td>0.004787</td>\n",
       "    </tr>\n",
       "    <tr>\n",
       "      <th>284</th>\n",
       "      <td>2021-05-05 23:20:01.000</td>\n",
       "      <td>-2.166166e-05</td>\n",
       "      <td>0.007919</td>\n",
       "    </tr>\n",
       "    <tr>\n",
       "      <th>285</th>\n",
       "      <td>2021-05-05 23:30:00.000</td>\n",
       "      <td>-1.153232e-05</td>\n",
       "      <td>0.005651</td>\n",
       "    </tr>\n",
       "    <tr>\n",
       "      <th>286</th>\n",
       "      <td>2021-05-05 23:40:00.000</td>\n",
       "      <td>2.076745e-05</td>\n",
       "      <td>0.007460</td>\n",
       "    </tr>\n",
       "    <tr>\n",
       "      <th>287</th>\n",
       "      <td>2021-05-05 23:50:00.000</td>\n",
       "      <td>1.017458e-05</td>\n",
       "      <td>0.009429</td>\n",
       "    </tr>\n",
       "  </tbody>\n",
       "</table>\n",
       "<p>288 rows × 3 columns</p>\n",
       "</div>"
      ],
      "text/plain": [
       "                          采集时间      竖向加速度平均值  竖向加速度标准差\n",
       "class                                                 \n",
       "0      2021-05-04 00:00:00.000 -9.050184e-07  0.002418\n",
       "1      2021-05-04 00:10:00.000  1.054820e-06  0.003812\n",
       "2      2021-05-04 00:20:00.000 -1.285649e-06  0.002596\n",
       "3      2021-05-04 00:30:00.000  1.401841e-06  0.002172\n",
       "4      2021-05-04 00:40:00.000  1.703777e-06  0.004827\n",
       "...                        ...           ...       ...\n",
       "283    2021-05-05 23:10:00.000 -1.190270e-05  0.004787\n",
       "284    2021-05-05 23:20:01.000 -2.166166e-05  0.007919\n",
       "285    2021-05-05 23:30:00.000 -1.153232e-05  0.005651\n",
       "286    2021-05-05 23:40:00.000  2.076745e-05  0.007460\n",
       "287    2021-05-05 23:50:00.000  1.017458e-05  0.009429\n",
       "\n",
       "[288 rows x 3 columns]"
      ]
     },
     "execution_count": 7,
     "metadata": {},
     "output_type": "execute_result"
    }
   ],
   "source": [
    "stats"
   ]
  },
  {
   "cell_type": "code",
   "execution_count": 8,
   "metadata": {},
   "outputs": [],
   "source": [
    "stats.to_csv('..\\数据\\浦仪夹江大桥数据5.4\\processed_data\\跨中竖向加速度统计值.csv')"
   ]
  },
  {
   "cell_type": "code",
   "execution_count": null,
   "metadata": {},
   "outputs": [],
   "source": []
  }
 ],
 "metadata": {
  "kernelspec": {
   "display_name": "Python 3 (ipykernel)",
   "language": "python",
   "name": "python3"
  },
  "language_info": {
   "codemirror_mode": {
    "name": "ipython",
    "version": 3
   },
   "file_extension": ".py",
   "mimetype": "text/x-python",
   "name": "python",
   "nbconvert_exporter": "python",
   "pygments_lexer": "ipython3",
   "version": "3.8.5"
  }
 },
 "nbformat": 4,
 "nbformat_minor": 4
}
