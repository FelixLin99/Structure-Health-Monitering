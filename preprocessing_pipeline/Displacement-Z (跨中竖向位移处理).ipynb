{
 "cells": [
  {
   "cell_type": "code",
   "execution_count": 1,
   "metadata": {},
   "outputs": [],
   "source": [
    "import numpy as np\n",
    "import pandas as pd\n",
    "import datetime\n",
    "import os\n",
    "import matplotlib.pyplot as plt\n",
    "import time\n",
    "import math"
   ]
  },
  {
   "cell_type": "markdown",
   "metadata": {},
   "source": [
    "# 1 数据读取\n",
    " - 每秒所有采集数据放置在一行，数据间用空格分隔，不同类型数据（例如空间变位的三个方向、风速和风向）之间用逗号分隔"
   ]
  },
  {
   "cell_type": "markdown",
   "metadata": {},
   "source": [
    "#### 1.1 读入数据"
   ]
  },
  {
   "cell_type": "code",
   "execution_count": 2,
   "metadata": {},
   "outputs": [],
   "source": [
    "# 读取数据，返回dataframe格式\n",
    "def readFile(path):\n",
    "    return pd.read_csv(path)\n",
    "path = r\"..\\数据\\浦仪夹江大桥数据4.27\\主跨跨中竖向位移PT-GR-05.csv\"\n",
    "df = readFile(path)\n",
    "# del df['纵桥向风速']"
   ]
  },
  {
   "cell_type": "code",
   "execution_count": 3,
   "metadata": {},
   "outputs": [
    {
     "data": {
      "text/html": [
       "<div>\n",
       "<style scoped>\n",
       "    .dataframe tbody tr th:only-of-type {\n",
       "        vertical-align: middle;\n",
       "    }\n",
       "\n",
       "    .dataframe tbody tr th {\n",
       "        vertical-align: top;\n",
       "    }\n",
       "\n",
       "    .dataframe thead th {\n",
       "        text-align: right;\n",
       "    }\n",
       "</style>\n",
       "<table border=\"1\" class=\"dataframe\">\n",
       "  <thead>\n",
       "    <tr style=\"text-align: right;\">\n",
       "      <th></th>\n",
       "      <th>测点编号</th>\n",
       "      <th>采集时间</th>\n",
       "      <th>主梁挠度</th>\n",
       "    </tr>\n",
       "  </thead>\n",
       "  <tbody>\n",
       "    <tr>\n",
       "      <th>0</th>\n",
       "      <td>PT-GR-05</td>\n",
       "      <td>2021-04-27 19:00:15</td>\n",
       "      <td>-19.702380952380416 -19.702380952380416 -19.70...</td>\n",
       "    </tr>\n",
       "    <tr>\n",
       "      <th>1</th>\n",
       "      <td>PT-GR-05</td>\n",
       "      <td>2021-04-27 19:00:16</td>\n",
       "      <td>-4.07738095238086 -4.449404761904141 -4.449404...</td>\n",
       "    </tr>\n",
       "    <tr>\n",
       "      <th>2</th>\n",
       "      <td>PT-GR-05</td>\n",
       "      <td>2021-04-27 19:00:17</td>\n",
       "      <td>-8.541666666667336 -8.541666666667336 -8.54166...</td>\n",
       "    </tr>\n",
       "    <tr>\n",
       "      <th>3</th>\n",
       "      <td>PT-GR-05</td>\n",
       "      <td>2021-04-27 19:00:18</td>\n",
       "      <td>-2.9613095238101295 -2.9613095238101295 -2.961...</td>\n",
       "    </tr>\n",
       "    <tr>\n",
       "      <th>4</th>\n",
       "      <td>PT-GR-05</td>\n",
       "      <td>2021-04-27 19:00:19</td>\n",
       "      <td>-2.9613095238092413 -2.9613095238092413 -2.961...</td>\n",
       "    </tr>\n",
       "  </tbody>\n",
       "</table>\n",
       "</div>"
      ],
      "text/plain": [
       "       测点编号                 采集时间  \\\n",
       "0  PT-GR-05  2021-04-27 19:00:15   \n",
       "1  PT-GR-05  2021-04-27 19:00:16   \n",
       "2  PT-GR-05  2021-04-27 19:00:17   \n",
       "3  PT-GR-05  2021-04-27 19:00:18   \n",
       "4  PT-GR-05  2021-04-27 19:00:19   \n",
       "\n",
       "                                                主梁挠度  \n",
       "0  -19.702380952380416 -19.702380952380416 -19.70...  \n",
       "1  -4.07738095238086 -4.449404761904141 -4.449404...  \n",
       "2  -8.541666666667336 -8.541666666667336 -8.54166...  \n",
       "3  -2.9613095238101295 -2.9613095238101295 -2.961...  \n",
       "4  -2.9613095238092413 -2.9613095238092413 -2.961...  "
      ]
     },
     "execution_count": 3,
     "metadata": {},
     "output_type": "execute_result"
    }
   ],
   "source": [
    "df.head()"
   ]
  },
  {
   "cell_type": "code",
   "execution_count": 4,
   "metadata": {},
   "outputs": [
    {
     "data": {
      "text/html": [
       "<div>\n",
       "<style scoped>\n",
       "    .dataframe tbody tr th:only-of-type {\n",
       "        vertical-align: middle;\n",
       "    }\n",
       "\n",
       "    .dataframe tbody tr th {\n",
       "        vertical-align: top;\n",
       "    }\n",
       "\n",
       "    .dataframe thead th {\n",
       "        text-align: right;\n",
       "    }\n",
       "</style>\n",
       "<table border=\"1\" class=\"dataframe\">\n",
       "  <thead>\n",
       "    <tr style=\"text-align: right;\">\n",
       "      <th></th>\n",
       "      <th>测点编号</th>\n",
       "      <th>采集时间</th>\n",
       "      <th>主梁挠度</th>\n",
       "    </tr>\n",
       "  </thead>\n",
       "  <tbody>\n",
       "    <tr>\n",
       "      <th>172336</th>\n",
       "      <td>PT-GR-05</td>\n",
       "      <td>2021-04-29 18:59:55</td>\n",
       "      <td>1.874999999999627 1.874999999999627 1.87499999...</td>\n",
       "    </tr>\n",
       "    <tr>\n",
       "      <th>172337</th>\n",
       "      <td>PT-GR-05</td>\n",
       "      <td>2021-04-29 18:59:56</td>\n",
       "      <td>0.014880952381002288 0.014880952381002288 0.01...</td>\n",
       "    </tr>\n",
       "    <tr>\n",
       "      <th>172338</th>\n",
       "      <td>PT-GR-05</td>\n",
       "      <td>2021-04-29 18:59:57</td>\n",
       "      <td>3.7351190476186957 3.3630952380945267 3.363095...</td>\n",
       "    </tr>\n",
       "    <tr>\n",
       "      <th>172339</th>\n",
       "      <td>PT-GR-05</td>\n",
       "      <td>2021-04-29 18:59:58</td>\n",
       "      <td>0.7589285714284522 0.7589285714284522 0.386904...</td>\n",
       "    </tr>\n",
       "    <tr>\n",
       "      <th>172340</th>\n",
       "      <td>PT-GR-05</td>\n",
       "      <td>2021-04-29 18:59:59</td>\n",
       "      <td>-5.193452380952923 -5.193452380952923 -5.19345...</td>\n",
       "    </tr>\n",
       "  </tbody>\n",
       "</table>\n",
       "</div>"
      ],
      "text/plain": [
       "            测点编号                 采集时间  \\\n",
       "172336  PT-GR-05  2021-04-29 18:59:55   \n",
       "172337  PT-GR-05  2021-04-29 18:59:56   \n",
       "172338  PT-GR-05  2021-04-29 18:59:57   \n",
       "172339  PT-GR-05  2021-04-29 18:59:58   \n",
       "172340  PT-GR-05  2021-04-29 18:59:59   \n",
       "\n",
       "                                                     主梁挠度  \n",
       "172336  1.874999999999627 1.874999999999627 1.87499999...  \n",
       "172337  0.014880952381002288 0.014880952381002288 0.01...  \n",
       "172338  3.7351190476186957 3.3630952380945267 3.363095...  \n",
       "172339  0.7589285714284522 0.7589285714284522 0.386904...  \n",
       "172340  -5.193452380952923 -5.193452380952923 -5.19345...  "
      ]
     },
     "execution_count": 4,
     "metadata": {},
     "output_type": "execute_result"
    }
   ],
   "source": [
    "df.tail()"
   ]
  },
  {
   "cell_type": "markdown",
   "metadata": {},
   "source": [
    "#### 1.2  数据校验"
   ]
  },
  {
   "cell_type": "code",
   "execution_count": 5,
   "metadata": {},
   "outputs": [
    {
     "data": {
      "text/html": [
       "<div>\n",
       "<style scoped>\n",
       "    .dataframe tbody tr th:only-of-type {\n",
       "        vertical-align: middle;\n",
       "    }\n",
       "\n",
       "    .dataframe tbody tr th {\n",
       "        vertical-align: top;\n",
       "    }\n",
       "\n",
       "    .dataframe thead th {\n",
       "        text-align: right;\n",
       "    }\n",
       "</style>\n",
       "<table border=\"1\" class=\"dataframe\">\n",
       "  <thead>\n",
       "    <tr style=\"text-align: right;\">\n",
       "      <th></th>\n",
       "      <th>测点编号</th>\n",
       "      <th>采集时间</th>\n",
       "      <th>主梁挠度</th>\n",
       "    </tr>\n",
       "  </thead>\n",
       "  <tbody>\n",
       "    <tr>\n",
       "      <th>0</th>\n",
       "      <td>PT-GR-05</td>\n",
       "      <td>2021-04-27 19:00:15</td>\n",
       "      <td>[-19.702380952380416, -19.702380952380416, -19...</td>\n",
       "    </tr>\n",
       "    <tr>\n",
       "      <th>1</th>\n",
       "      <td>PT-GR-05</td>\n",
       "      <td>2021-04-27 19:00:16</td>\n",
       "      <td>[-4.07738095238086, -4.449404761904141, -4.449...</td>\n",
       "    </tr>\n",
       "    <tr>\n",
       "      <th>2</th>\n",
       "      <td>PT-GR-05</td>\n",
       "      <td>2021-04-27 19:00:17</td>\n",
       "      <td>[-8.541666666667336, -8.541666666667336, -8.54...</td>\n",
       "    </tr>\n",
       "    <tr>\n",
       "      <th>3</th>\n",
       "      <td>PT-GR-05</td>\n",
       "      <td>2021-04-27 19:00:18</td>\n",
       "      <td>[-2.9613095238101295, -2.9613095238101295, -2....</td>\n",
       "    </tr>\n",
       "    <tr>\n",
       "      <th>4</th>\n",
       "      <td>PT-GR-05</td>\n",
       "      <td>2021-04-27 19:00:19</td>\n",
       "      <td>[-2.9613095238092413, -2.9613095238092413, -2....</td>\n",
       "    </tr>\n",
       "  </tbody>\n",
       "</table>\n",
       "</div>"
      ],
      "text/plain": [
       "       测点编号                采集时间  \\\n",
       "0  PT-GR-05 2021-04-27 19:00:15   \n",
       "1  PT-GR-05 2021-04-27 19:00:16   \n",
       "2  PT-GR-05 2021-04-27 19:00:17   \n",
       "3  PT-GR-05 2021-04-27 19:00:18   \n",
       "4  PT-GR-05 2021-04-27 19:00:19   \n",
       "\n",
       "                                                主梁挠度  \n",
       "0  [-19.702380952380416, -19.702380952380416, -19...  \n",
       "1  [-4.07738095238086, -4.449404761904141, -4.449...  \n",
       "2  [-8.541666666667336, -8.541666666667336, -8.54...  \n",
       "3  [-2.9613095238101295, -2.9613095238101295, -2....  \n",
       "4  [-2.9613095238092413, -2.9613095238092413, -2....  "
      ]
     },
     "execution_count": 5,
     "metadata": {},
     "output_type": "execute_result"
    }
   ],
   "source": [
    "# 数据类型转换\n",
    "def change_datatype(df):\n",
    "    df[\"主梁挠度\"] = df[\"主梁挠度\"].apply(lambda x: np.array(x.split(\" \"), dtype = float))\n",
    "    df[\"采集时间\"] = df[\"采集时间\"].apply(lambda x: datetime.datetime.strptime(x,'%Y-%m-%d %H:%M:%S'))\n",
    "    return df\n",
    "df = change_datatype(df)\n",
    "df.head()"
   ]
  },
  {
   "cell_type": "code",
   "execution_count": 6,
   "metadata": {},
   "outputs": [],
   "source": [
    "def data_verification(df):\n",
    "    #统计每秒钟内的采样频率\n",
    "    df[\"每秒采样频率\"] = df[\"主梁挠度\"].apply(lambda x: len(x))\n",
    "    print(df[\"每秒采样频率\"].describe() ,\"\\n\")\n",
    "    \n",
    "    # 校验每小时漏采或多采的情况\n",
    "    tmp_Series = df[\"采集时间\"].apply(lambda x: x.strftime(\"%Y-%m-%d %H时\")).value_counts()\n",
    "    tmp_Series.index = [datetime.datetime.strptime(x[:-1],'%Y-%m-%d %H') for x in tmp_Series.index]\n",
    "    tmp_Series = tmp_Series - 60*60  #（正常情况下有3600条数据）\n",
    "    print(tmp_Series)\n",
    "    tmp_Series = tmp_Series.sort_index()\n",
    "\n",
    "    plt.rcParams['font.sans-serif'] = ['KaiTi'] # 指定默认字体\n",
    "    plt.rcParams['axes.unicode_minus'] = False # 解决保存图像是负号'-'显示为方块的问题\n",
    "    plt.figure (figsize= (15,4))\n",
    "    plt.bar(x = tmp_Series.index[:-2], height = tmp_Series.values[:-2], width = 0.041)\n",
    "    plt.xlabel(\"Time\",fontsize='10')\n",
    "    plt.ylabel(\"Bias\",fontsize='10')\n",
    "    plt.title(\"每小时漏采或多采的情况\",fontsize='20')\n",
    "    plt.plot()"
   ]
  },
  {
   "cell_type": "code",
   "execution_count": 7,
   "metadata": {},
   "outputs": [
    {
     "name": "stdout",
     "output_type": "stream",
     "text": [
      "count    172341.000000\n",
      "mean          9.983805\n",
      "std           0.558537\n",
      "min           1.000000\n",
      "25%          10.000000\n",
      "50%          10.000000\n",
      "75%          10.000000\n",
      "max          46.000000\n",
      "Name: 每秒采样频率, dtype: float64 \n",
      "\n",
      "2021-04-29 14:00:00     0\n",
      "2021-04-29 08:00:00    -1\n",
      "2021-04-29 17:00:00    -2\n",
      "2021-04-29 12:00:00    -2\n",
      "2021-04-28 18:00:00    -3\n",
      "2021-04-29 01:00:00    -3\n",
      "2021-04-29 09:00:00    -3\n",
      "2021-04-28 15:00:00    -4\n",
      "2021-04-28 22:00:00    -4\n",
      "2021-04-29 15:00:00    -5\n",
      "2021-04-29 00:00:00    -5\n",
      "2021-04-28 17:00:00    -5\n",
      "2021-04-28 01:00:00    -5\n",
      "2021-04-29 07:00:00    -5\n",
      "2021-04-28 13:00:00    -5\n",
      "2021-04-28 02:00:00    -5\n",
      "2021-04-28 05:00:00    -6\n",
      "2021-04-28 10:00:00    -6\n",
      "2021-04-29 06:00:00    -6\n",
      "2021-04-29 13:00:00    -6\n",
      "2021-04-29 11:00:00    -6\n",
      "2021-04-29 18:00:00    -7\n",
      "2021-04-28 00:00:00    -7\n",
      "2021-04-27 20:00:00    -8\n",
      "2021-04-28 08:00:00    -8\n",
      "2021-04-29 05:00:00    -8\n",
      "2021-04-28 03:00:00    -9\n",
      "2021-04-29 03:00:00    -9\n",
      "2021-04-28 04:00:00    -9\n",
      "2021-04-28 16:00:00    -9\n",
      "2021-04-29 10:00:00    -9\n",
      "2021-04-28 12:00:00   -10\n",
      "2021-04-28 20:00:00   -10\n",
      "2021-04-28 06:00:00   -11\n",
      "2021-04-27 21:00:00   -11\n",
      "2021-04-28 14:00:00   -11\n",
      "2021-04-28 09:00:00   -12\n",
      "2021-04-28 19:00:00   -12\n",
      "2021-04-28 21:00:00   -13\n",
      "2021-04-29 02:00:00   -15\n",
      "2021-04-28 23:00:00   -16\n",
      "2021-04-28 11:00:00   -16\n",
      "2021-04-28 07:00:00   -16\n",
      "2021-04-27 22:00:00   -17\n",
      "2021-04-27 23:00:00   -17\n",
      "2021-04-29 04:00:00   -22\n",
      "2021-04-27 19:00:00   -33\n",
      "2021-04-29 16:00:00   -47\n",
      "Name: 采集时间, dtype: int64\n"
     ]
    },
    {
     "data": {
      "image/png": "[encoded data removed]",
      "text/plain": [
       "<Figure size 1080x288 with 1 Axes>"
      ]
     },
     "metadata": {
      "needs_background": "light"
     },
     "output_type": "display_data"
    }
   ],
   "source": [
    "data_verification(df)"
   ]
  },
  {
   "cell_type": "markdown",
   "metadata": {},
   "source": [
    " - 采样频率为10,但个别秒存在多采或少采的情况\n",
    " - 每小时应该存在3600条数据，但实际上存在偏差，特别是2021-04-29 16时的数据"
   ]
  },
  {
   "cell_type": "markdown",
   "metadata": {},
   "source": [
    "# 2 数据预处理\n",
    " - 针对数据校验的结果，对数据进行进一步处理"
   ]
  },
  {
   "cell_type": "markdown",
   "metadata": {},
   "source": [
    "#### 2.1 数据展开"
   ]
  },
  {
   "cell_type": "code",
   "execution_count": 8,
   "metadata": {},
   "outputs": [],
   "source": [
    "df.sort_values(by=\"采集时间\",axis=0,ascending=True,inplace=True)\n",
    "df.drop_duplicates(subset=['采集时间'], keep='first', inplace=True)\n",
    "df.reset_index(inplace=True)\n",
    "del df['index']"
   ]
  },
  {
   "cell_type": "code",
   "execution_count": 9,
   "metadata": {},
   "outputs": [
    {
     "data": {
      "text/html": [
       "<div>\n",
       "<style scoped>\n",
       "    .dataframe tbody tr th:only-of-type {\n",
       "        vertical-align: middle;\n",
       "    }\n",
       "\n",
       "    .dataframe tbody tr th {\n",
       "        vertical-align: top;\n",
       "    }\n",
       "\n",
       "    .dataframe thead th {\n",
       "        text-align: right;\n",
       "    }\n",
       "</style>\n",
       "<table border=\"1\" class=\"dataframe\">\n",
       "  <thead>\n",
       "    <tr style=\"text-align: right;\">\n",
       "      <th></th>\n",
       "      <th>测点编号</th>\n",
       "      <th>采集时间</th>\n",
       "      <th>主梁挠度</th>\n",
       "      <th>每秒采样频率</th>\n",
       "    </tr>\n",
       "  </thead>\n",
       "  <tbody>\n",
       "    <tr>\n",
       "      <th>0</th>\n",
       "      <td>PT-GR-05</td>\n",
       "      <td>2021-04-27 19:00:15</td>\n",
       "      <td>[-19.702380952380416, -19.702380952380416, -19...</td>\n",
       "      <td>10</td>\n",
       "    </tr>\n",
       "    <tr>\n",
       "      <th>1</th>\n",
       "      <td>PT-GR-05</td>\n",
       "      <td>2021-04-27 19:00:16</td>\n",
       "      <td>[-4.07738095238086, -4.449404761904141, -4.449...</td>\n",
       "      <td>10</td>\n",
       "    </tr>\n",
       "    <tr>\n",
       "      <th>2</th>\n",
       "      <td>PT-GR-05</td>\n",
       "      <td>2021-04-27 19:00:17</td>\n",
       "      <td>[-8.541666666667336, -8.541666666667336, -8.54...</td>\n",
       "      <td>10</td>\n",
       "    </tr>\n",
       "    <tr>\n",
       "      <th>3</th>\n",
       "      <td>PT-GR-05</td>\n",
       "      <td>2021-04-27 19:00:18</td>\n",
       "      <td>[-2.9613095238101295, -2.9613095238101295, -2....</td>\n",
       "      <td>10</td>\n",
       "    </tr>\n",
       "    <tr>\n",
       "      <th>4</th>\n",
       "      <td>PT-GR-05</td>\n",
       "      <td>2021-04-27 19:00:19</td>\n",
       "      <td>[-2.9613095238092413, -2.9613095238092413, -2....</td>\n",
       "      <td>10</td>\n",
       "    </tr>\n",
       "  </tbody>\n",
       "</table>\n",
       "</div>"
      ],
      "text/plain": [
       "       测点编号                采集时间  \\\n",
       "0  PT-GR-05 2021-04-27 19:00:15   \n",
       "1  PT-GR-05 2021-04-27 19:00:16   \n",
       "2  PT-GR-05 2021-04-27 19:00:17   \n",
       "3  PT-GR-05 2021-04-27 19:00:18   \n",
       "4  PT-GR-05 2021-04-27 19:00:19   \n",
       "\n",
       "                                                主梁挠度  每秒采样频率  \n",
       "0  [-19.702380952380416, -19.702380952380416, -19...      10  \n",
       "1  [-4.07738095238086, -4.449404761904141, -4.449...      10  \n",
       "2  [-8.541666666667336, -8.541666666667336, -8.54...      10  \n",
       "3  [-2.9613095238101295, -2.9613095238101295, -2....      10  \n",
       "4  [-2.9613095238092413, -2.9613095238092413, -2....      10  "
      ]
     },
     "execution_count": 9,
     "metadata": {},
     "output_type": "execute_result"
    }
   ],
   "source": [
    "df.head()"
   ]
  },
  {
   "cell_type": "code",
   "execution_count": 10,
   "metadata": {},
   "outputs": [],
   "source": [
    "##############################################################\n",
    "# @desc: 对数据的每一行进行处理，返回dataframe\n",
    "##############################################################\n",
    "def produce_unit(x):\n",
    "    # 生成时间序列\n",
    "    time_list = pd.date_range(start=x[\"采集时间\"], periods=10, freq='100ms')\n",
    "    # 生成加速度序列\n",
    "    z = x[\"主梁挠度\"]\n",
    "    if len(z) < 10:\n",
    "        nan_list = np.full(10-len(z), np.nan)\n",
    "        z = np.append(z,nan_list)\n",
    "    elif len(z) > 10:\n",
    "        z = z[:10]\n",
    "    return pd.DataFrame({'采集时间':time_list,'主梁挠度':z})\n",
    "    \n",
    "##############################################################\n",
    "# @desc: 对数据的每一行进行处理，返回dataframe\n",
    "# @dependencies: produce_unit\n",
    "##############################################################\n",
    "def prepossessing(df):\n",
    "    intermediary = df.apply(lambda x: produce_unit(x), axis = 1, result_type = 'reduce')  # intermediary是一个Seriess，但每个数据是一个dataFrame\n",
    "    result = intermediary[0]   # 初始化\n",
    "    for i in range(1, len(intermediary)):\n",
    "        # 判断是否不连续\n",
    "        intervel = (intermediary[i][\"采集时间\"][0] - intermediary[i-1][\"采集时间\"][0]).seconds\n",
    "        if (intervel > 1):\n",
    "            adding = pd.DataFrame(\n",
    "                {'采集时间':pd.date_range(start=intermediary[i-1][\"采集时间\"][0] + datetime.timedelta(minutes=1), periods=int(intervel -1)*10, freq='100ms'),\n",
    "                 '主梁挠度':np.full(int(intervel-1)*10, np.nan)\n",
    "                }\n",
    "            ) \n",
    "            result = pd.concat([result,adding,intermediary[i]])\n",
    "        else:\n",
    "            result = pd.concat([result,intermediary[i]])\n",
    "    result.reset_index(inplace = True)\n",
    "    del result['index']\n",
    "    return result"
   ]
  },
  {
   "cell_type": "code",
   "execution_count": 11,
   "metadata": {},
   "outputs": [],
   "source": [
    "disposed_df = df.copy()\n",
    "disposed_df = prepossessing(disposed_df)"
   ]
  },
  {
   "cell_type": "code",
   "execution_count": 12,
   "metadata": {},
   "outputs": [],
   "source": [
    "disposed_df.to_csv('..\\数据\\浦仪夹江大桥数据4.27\\disposed\\跨中竖向位移.csv')"
   ]
  },
  {
   "cell_type": "markdown",
   "metadata": {},
   "source": [
    "#### 2.2 归一化"
   ]
  },
  {
   "cell_type": "code",
   "execution_count": 2,
   "metadata": {},
   "outputs": [],
   "source": [
    "disposed_df = pd.read_csv('..\\数据\\浦仪夹江大桥数据5.4\\disposed\\跨中竖向位移.csv',index_col=False)\n",
    "del disposed_df['Unnamed: 0']\n",
    "# disposed_df['采集时间'] = disposed_df[\"采集时间\"].apply(lambda x: datetime.datetime.strptime(x,'%Y-%m-%d %H:%M:%S.%f')) \n",
    "\n",
    "# def normalization(df,columns=[]):\n",
    "#     for col in columns:\n",
    "#         df[columns] = df[columns] / (df[columns].max() - df[columns].min())\n",
    "#         df[columns] = df[columns] - df[columns].mean()\n",
    "#     return df\n",
    "\n",
    "# cols = ['主梁挠度']\n",
    "# disposed_df = normalization(disposed_df,cols)"
   ]
  },
  {
   "cell_type": "code",
   "execution_count": 3,
   "metadata": {},
   "outputs": [
    {
     "data": {
      "text/html": [
       "<div>\n",
       "<style scoped>\n",
       "    .dataframe tbody tr th:only-of-type {\n",
       "        vertical-align: middle;\n",
       "    }\n",
       "\n",
       "    .dataframe tbody tr th {\n",
       "        vertical-align: top;\n",
       "    }\n",
       "\n",
       "    .dataframe thead th {\n",
       "        text-align: right;\n",
       "    }\n",
       "</style>\n",
       "<table border=\"1\" class=\"dataframe\">\n",
       "  <thead>\n",
       "    <tr style=\"text-align: right;\">\n",
       "      <th></th>\n",
       "      <th>采集时间</th>\n",
       "      <th>主梁挠度</th>\n",
       "    </tr>\n",
       "  </thead>\n",
       "  <tbody>\n",
       "    <tr>\n",
       "      <th>0</th>\n",
       "      <td>2021-05-04 00:00:00.000</td>\n",
       "      <td>-3.705357</td>\n",
       "    </tr>\n",
       "    <tr>\n",
       "      <th>1</th>\n",
       "      <td>2021-05-04 00:00:00.100</td>\n",
       "      <td>-3.705357</td>\n",
       "    </tr>\n",
       "    <tr>\n",
       "      <th>2</th>\n",
       "      <td>2021-05-04 00:00:00.200</td>\n",
       "      <td>-3.705357</td>\n",
       "    </tr>\n",
       "    <tr>\n",
       "      <th>3</th>\n",
       "      <td>2021-05-04 00:00:00.300</td>\n",
       "      <td>5.595238</td>\n",
       "    </tr>\n",
       "    <tr>\n",
       "      <th>4</th>\n",
       "      <td>2021-05-04 00:00:00.400</td>\n",
       "      <td>5.595238</td>\n",
       "    </tr>\n",
       "    <tr>\n",
       "      <th>...</th>\n",
       "      <td>...</td>\n",
       "      <td>...</td>\n",
       "    </tr>\n",
       "    <tr>\n",
       "      <th>1727675</th>\n",
       "      <td>2021-05-05 23:59:27.500</td>\n",
       "      <td>NaN</td>\n",
       "    </tr>\n",
       "    <tr>\n",
       "      <th>1727676</th>\n",
       "      <td>2021-05-05 23:59:27.600</td>\n",
       "      <td>NaN</td>\n",
       "    </tr>\n",
       "    <tr>\n",
       "      <th>1727677</th>\n",
       "      <td>2021-05-05 23:59:27.700</td>\n",
       "      <td>NaN</td>\n",
       "    </tr>\n",
       "    <tr>\n",
       "      <th>1727678</th>\n",
       "      <td>2021-05-05 23:59:27.800</td>\n",
       "      <td>NaN</td>\n",
       "    </tr>\n",
       "    <tr>\n",
       "      <th>1727679</th>\n",
       "      <td>2021-05-05 23:59:27.900</td>\n",
       "      <td>NaN</td>\n",
       "    </tr>\n",
       "  </tbody>\n",
       "</table>\n",
       "<p>1727680 rows × 2 columns</p>\n",
       "</div>"
      ],
      "text/plain": [
       "                            采集时间      主梁挠度\n",
       "0        2021-05-04 00:00:00.000 -3.705357\n",
       "1        2021-05-04 00:00:00.100 -3.705357\n",
       "2        2021-05-04 00:00:00.200 -3.705357\n",
       "3        2021-05-04 00:00:00.300  5.595238\n",
       "4        2021-05-04 00:00:00.400  5.595238\n",
       "...                          ...       ...\n",
       "1727675  2021-05-05 23:59:27.500       NaN\n",
       "1727676  2021-05-05 23:59:27.600       NaN\n",
       "1727677  2021-05-05 23:59:27.700       NaN\n",
       "1727678  2021-05-05 23:59:27.800       NaN\n",
       "1727679  2021-05-05 23:59:27.900       NaN\n",
       "\n",
       "[1727680 rows x 2 columns]"
      ]
     },
     "execution_count": 3,
     "metadata": {},
     "output_type": "execute_result"
    }
   ],
   "source": [
    "disposed_df"
   ]
  },
  {
   "cell_type": "markdown",
   "metadata": {},
   "source": [
    "#### 2.3 原始数据可视化"
   ]
  },
  {
   "cell_type": "code",
   "execution_count": 16,
   "metadata": {},
   "outputs": [
    {
     "data": {
      "text/plain": [
       "Text(0.5, 1.0, '竖向位移')"
      ]
     },
     "execution_count": 16,
     "metadata": {},
     "output_type": "execute_result"
    },
    {
     "data": {
      "image/png": "[encoded data removed]",
      "text/plain": [
       "<Figure size 1080x360 with 1 Axes>"
      ]
     },
     "metadata": {
      "needs_background": "light"
     },
     "output_type": "display_data"
    }
   ],
   "source": [
    "#disposed_df['采集时间'] = disposed_df[\"采集时间\"].apply(lambda x: datetime.datetime.strptime(x,'%Y-%m-%d %H:%M:%S.%f')) \n",
    "disposed_df.index = disposed_df['采集时间']\n",
    "\n",
    "plt.rcParams['font.sans-serif']=['SimHei'] #用来正常显示中文标签\n",
    "plt.rcParams['axes.unicode_minus']=False #用来正常显示负号\n",
    "\n",
    "disposed_df[['主梁挠度']].plot(figsize=(15,5),alpha=0.8)\n",
    "plt.title('竖向位移')"
   ]
  },
  {
   "cell_type": "markdown",
   "metadata": {},
   "source": [
    "# 2 数据分析"
   ]
  },
  {
   "cell_type": "markdown",
   "metadata": {},
   "source": [
    "#### 2.1 以十分钟为单位划分数据集\n",
    " - 计算窗体时间内的平均Vx、Vy、Vz和平均风速的风向\n",
    " - 计算紊流度：\n",
    "     - Iu = sigma_vx/sqrt(vx^2+vy^2)\n",
    "     - Iv = sigma_vy/sqrt(vx^2+vy^2)\n",
    "     - Iw = sigma_vz/sqrt(vx^2+vy^2)"
   ]
  },
  {
   "cell_type": "code",
   "execution_count": 4,
   "metadata": {},
   "outputs": [],
   "source": [
    "def get_stats(df, interval = 60*10, freq = 10):\n",
    "    df[\"class\"] = np.array(df.index.values / (freq*interval), dtype=int)\n",
    "    result = df.groupby('class').agg({'采集时间':min, '主梁挠度':[np.mean,np.std]}) \n",
    "    result.columns = ['采集时间','竖向变位平均值','竖向变位标准差']\n",
    "    return result"
   ]
  },
  {
   "cell_type": "code",
   "execution_count": 5,
   "metadata": {},
   "outputs": [],
   "source": [
    "stats = get_stats(disposed_df, interval = 60*10, freq = 10)"
   ]
  },
  {
   "cell_type": "code",
   "execution_count": 6,
   "metadata": {},
   "outputs": [
    {
     "data": {
      "text/html": [
       "<div>\n",
       "<style scoped>\n",
       "    .dataframe tbody tr th:only-of-type {\n",
       "        vertical-align: middle;\n",
       "    }\n",
       "\n",
       "    .dataframe tbody tr th {\n",
       "        vertical-align: top;\n",
       "    }\n",
       "\n",
       "    .dataframe thead th {\n",
       "        text-align: right;\n",
       "    }\n",
       "</style>\n",
       "<table border=\"1\" class=\"dataframe\">\n",
       "  <thead>\n",
       "    <tr style=\"text-align: right;\">\n",
       "      <th></th>\n",
       "      <th>采集时间</th>\n",
       "      <th>竖向变位平均值</th>\n",
       "      <th>竖向变位标准差</th>\n",
       "    </tr>\n",
       "    <tr>\n",
       "      <th>class</th>\n",
       "      <th></th>\n",
       "      <th></th>\n",
       "      <th></th>\n",
       "    </tr>\n",
       "  </thead>\n",
       "  <tbody>\n",
       "    <tr>\n",
       "      <th>0</th>\n",
       "      <td>2021-05-04 00:00:00.000</td>\n",
       "      <td>0.265047</td>\n",
       "      <td>3.870752</td>\n",
       "    </tr>\n",
       "    <tr>\n",
       "      <th>1</th>\n",
       "      <td>2021-05-04 00:10:00.000</td>\n",
       "      <td>-0.794858</td>\n",
       "      <td>4.422763</td>\n",
       "    </tr>\n",
       "    <tr>\n",
       "      <th>2</th>\n",
       "      <td>2021-05-04 00:20:00.000</td>\n",
       "      <td>-1.266266</td>\n",
       "      <td>3.956104</td>\n",
       "    </tr>\n",
       "    <tr>\n",
       "      <th>3</th>\n",
       "      <td>2021-05-04 00:30:00.000</td>\n",
       "      <td>-3.134053</td>\n",
       "      <td>3.822152</td>\n",
       "    </tr>\n",
       "    <tr>\n",
       "      <th>4</th>\n",
       "      <td>2021-05-04 00:40:00.000</td>\n",
       "      <td>-4.598755</td>\n",
       "      <td>5.084820</td>\n",
       "    </tr>\n",
       "    <tr>\n",
       "      <th>...</th>\n",
       "      <td>...</td>\n",
       "      <td>...</td>\n",
       "      <td>...</td>\n",
       "    </tr>\n",
       "    <tr>\n",
       "      <th>283</th>\n",
       "      <td>2021-05-05 23:10:00.000</td>\n",
       "      <td>-4.273996</td>\n",
       "      <td>5.378839</td>\n",
       "    </tr>\n",
       "    <tr>\n",
       "      <th>284</th>\n",
       "      <td>2021-05-05 23:20:00.000</td>\n",
       "      <td>-5.190326</td>\n",
       "      <td>4.556694</td>\n",
       "    </tr>\n",
       "    <tr>\n",
       "      <th>285</th>\n",
       "      <td>2021-05-05 23:30:00.000</td>\n",
       "      <td>-5.971817</td>\n",
       "      <td>4.576352</td>\n",
       "    </tr>\n",
       "    <tr>\n",
       "      <th>286</th>\n",
       "      <td>2021-05-05 23:40:00.000</td>\n",
       "      <td>-7.344237</td>\n",
       "      <td>4.999101</td>\n",
       "    </tr>\n",
       "    <tr>\n",
       "      <th>287</th>\n",
       "      <td>2021-05-05 23:50:00.000</td>\n",
       "      <td>-7.997023</td>\n",
       "      <td>6.171654</td>\n",
       "    </tr>\n",
       "  </tbody>\n",
       "</table>\n",
       "<p>288 rows × 3 columns</p>\n",
       "</div>"
      ],
      "text/plain": [
       "                          采集时间   竖向变位平均值   竖向变位标准差\n",
       "class                                             \n",
       "0      2021-05-04 00:00:00.000  0.265047  3.870752\n",
       "1      2021-05-04 00:10:00.000 -0.794858  4.422763\n",
       "2      2021-05-04 00:20:00.000 -1.266266  3.956104\n",
       "3      2021-05-04 00:30:00.000 -3.134053  3.822152\n",
       "4      2021-05-04 00:40:00.000 -4.598755  5.084820\n",
       "...                        ...       ...       ...\n",
       "283    2021-05-05 23:10:00.000 -4.273996  5.378839\n",
       "284    2021-05-05 23:20:00.000 -5.190326  4.556694\n",
       "285    2021-05-05 23:30:00.000 -5.971817  4.576352\n",
       "286    2021-05-05 23:40:00.000 -7.344237  4.999101\n",
       "287    2021-05-05 23:50:00.000 -7.997023  6.171654\n",
       "\n",
       "[288 rows x 3 columns]"
      ]
     },
     "execution_count": 6,
     "metadata": {},
     "output_type": "execute_result"
    }
   ],
   "source": [
    "stats"
   ]
  },
  {
   "cell_type": "code",
   "execution_count": 7,
   "metadata": {},
   "outputs": [],
   "source": [
    "stats.to_csv('..\\数据\\浦仪夹江大桥数据5.4\\processed_data\\跨中竖向位移统计值.csv')"
   ]
  },
  {
   "cell_type": "code",
   "execution_count": null,
   "metadata": {},
   "outputs": [],
   "source": []
  }
 ],
 "metadata": {
  "kernelspec": {
   "display_name": "Python 3 (ipykernel)",
   "language": "python",
   "name": "python3"
  },
  "language_info": {
   "codemirror_mode": {
    "name": "ipython",
    "version": 3
   },
   "file_extension": ".py",
   "mimetype": "text/x-python",
   "name": "python",
   "nbconvert_exporter": "python",
   "pygments_lexer": "ipython3",
   "version": "3.8.5"
  }
 },
 "nbformat": 4,
 "nbformat_minor": 4
}
