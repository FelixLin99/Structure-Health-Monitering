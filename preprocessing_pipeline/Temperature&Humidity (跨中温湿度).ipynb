{
 "cells": [
  {
   "cell_type": "code",
   "execution_count": 2,
   "metadata": {},
   "outputs": [],
   "source": [
    "import numpy as np\n",
    "import pandas as pd\n",
    "import datetime\n",
    "import os\n",
    "import matplotlib.pyplot as plt\n",
    "import time\n",
    "import math"
   ]
  },
  {
   "cell_type": "markdown",
   "metadata": {},
   "source": [
    "# 1 数据读取\n",
    " - 每秒所有采集数据放置在一行，数据间用空格分隔，不同类型数据（例如空间变位的三个方向、风速和风向）之间用逗号分隔"
   ]
  },
  {
   "cell_type": "markdown",
   "metadata": {},
   "source": [
    "#### 1.1 读入数据"
   ]
  },
  {
   "cell_type": "code",
   "execution_count": 3,
   "metadata": {},
   "outputs": [],
   "source": [
    "# 读取数据，返回dataframe格式\n",
    "def readFile(path):\n",
    "    return pd.read_csv(path)\n",
    "path = r\"..\\数据\\浦仪夹江大桥数据5.4\\主跨跨中箱内温湿度TH-G-03.csv\"\n",
    "df = readFile(path)\n",
    "del df['测点编号']"
   ]
  },
  {
   "cell_type": "code",
   "execution_count": 4,
   "metadata": {},
   "outputs": [
    {
     "data": {
      "text/html": [
       "<div>\n",
       "<style scoped>\n",
       "    .dataframe tbody tr th:only-of-type {\n",
       "        vertical-align: middle;\n",
       "    }\n",
       "\n",
       "    .dataframe tbody tr th {\n",
       "        vertical-align: top;\n",
       "    }\n",
       "\n",
       "    .dataframe thead th {\n",
       "        text-align: right;\n",
       "    }\n",
       "</style>\n",
       "<table border=\"1\" class=\"dataframe\">\n",
       "  <thead>\n",
       "    <tr style=\"text-align: right;\">\n",
       "      <th></th>\n",
       "      <th>采集时间</th>\n",
       "      <th>温度</th>\n",
       "      <th>湿度</th>\n",
       "    </tr>\n",
       "  </thead>\n",
       "  <tbody>\n",
       "    <tr>\n",
       "      <th>0</th>\n",
       "      <td>2021-05-04 00:00:00</td>\n",
       "      <td>27.39</td>\n",
       "      <td>39.95</td>\n",
       "    </tr>\n",
       "    <tr>\n",
       "      <th>1</th>\n",
       "      <td>2021-05-04 00:00:01</td>\n",
       "      <td>27.39</td>\n",
       "      <td>39.99</td>\n",
       "    </tr>\n",
       "    <tr>\n",
       "      <th>2</th>\n",
       "      <td>2021-05-04 00:00:02</td>\n",
       "      <td>27.41</td>\n",
       "      <td>39.99</td>\n",
       "    </tr>\n",
       "    <tr>\n",
       "      <th>3</th>\n",
       "      <td>2021-05-04 00:00:03</td>\n",
       "      <td>27.39</td>\n",
       "      <td>40.00</td>\n",
       "    </tr>\n",
       "    <tr>\n",
       "      <th>4</th>\n",
       "      <td>2021-05-04 00:00:04</td>\n",
       "      <td>27.39</td>\n",
       "      <td>40.02</td>\n",
       "    </tr>\n",
       "  </tbody>\n",
       "</table>\n",
       "</div>"
      ],
      "text/plain": [
       "                  采集时间     温度     湿度\n",
       "0  2021-05-04 00:00:00  27.39  39.95\n",
       "1  2021-05-04 00:00:01  27.39  39.99\n",
       "2  2021-05-04 00:00:02  27.41  39.99\n",
       "3  2021-05-04 00:00:03  27.39  40.00\n",
       "4  2021-05-04 00:00:04  27.39  40.02"
      ]
     },
     "execution_count": 4,
     "metadata": {},
     "output_type": "execute_result"
    }
   ],
   "source": [
    "df.head()"
   ]
  },
  {
   "cell_type": "code",
   "execution_count": 5,
   "metadata": {},
   "outputs": [
    {
     "data": {
      "text/html": [
       "<div>\n",
       "<style scoped>\n",
       "    .dataframe tbody tr th:only-of-type {\n",
       "        vertical-align: middle;\n",
       "    }\n",
       "\n",
       "    .dataframe tbody tr th {\n",
       "        vertical-align: top;\n",
       "    }\n",
       "\n",
       "    .dataframe thead th {\n",
       "        text-align: right;\n",
       "    }\n",
       "</style>\n",
       "<table border=\"1\" class=\"dataframe\">\n",
       "  <thead>\n",
       "    <tr style=\"text-align: right;\">\n",
       "      <th></th>\n",
       "      <th>采集时间</th>\n",
       "      <th>温度</th>\n",
       "      <th>湿度</th>\n",
       "    </tr>\n",
       "  </thead>\n",
       "  <tbody>\n",
       "    <tr>\n",
       "      <th>170117</th>\n",
       "      <td>2021-05-05 23:58:43</td>\n",
       "      <td>26.97</td>\n",
       "      <td>40.88</td>\n",
       "    </tr>\n",
       "    <tr>\n",
       "      <th>170118</th>\n",
       "      <td>2021-05-05 23:58:44</td>\n",
       "      <td>26.97</td>\n",
       "      <td>40.88</td>\n",
       "    </tr>\n",
       "    <tr>\n",
       "      <th>170119</th>\n",
       "      <td>2021-05-05 23:58:45</td>\n",
       "      <td>26.97</td>\n",
       "      <td>40.88</td>\n",
       "    </tr>\n",
       "    <tr>\n",
       "      <th>170120</th>\n",
       "      <td>2021-05-05 23:58:46</td>\n",
       "      <td>27.02</td>\n",
       "      <td>40.84</td>\n",
       "    </tr>\n",
       "    <tr>\n",
       "      <th>170121</th>\n",
       "      <td>2021-05-05 23:58:47</td>\n",
       "      <td>27.00</td>\n",
       "      <td>NaN</td>\n",
       "    </tr>\n",
       "  </tbody>\n",
       "</table>\n",
       "</div>"
      ],
      "text/plain": [
       "                       采集时间     温度     湿度\n",
       "170117  2021-05-05 23:58:43  26.97  40.88\n",
       "170118  2021-05-05 23:58:44  26.97  40.88\n",
       "170119  2021-05-05 23:58:45  26.97  40.88\n",
       "170120  2021-05-05 23:58:46  27.02  40.84\n",
       "170121  2021-05-05 23:58:47  27.00    NaN"
      ]
     },
     "execution_count": 5,
     "metadata": {},
     "output_type": "execute_result"
    }
   ],
   "source": [
    "df.tail()"
   ]
  },
  {
   "cell_type": "code",
   "execution_count": 15,
   "metadata": {},
   "outputs": [],
   "source": [
    "# 删掉最后一行\n",
    "df = df[:-1]"
   ]
  },
  {
   "cell_type": "markdown",
   "metadata": {},
   "source": [
    "#### 1.2  数据校验"
   ]
  },
  {
   "cell_type": "code",
   "execution_count": 6,
   "metadata": {},
   "outputs": [
    {
     "data": {
      "text/html": [
       "<div>\n",
       "<style scoped>\n",
       "    .dataframe tbody tr th:only-of-type {\n",
       "        vertical-align: middle;\n",
       "    }\n",
       "\n",
       "    .dataframe tbody tr th {\n",
       "        vertical-align: top;\n",
       "    }\n",
       "\n",
       "    .dataframe thead th {\n",
       "        text-align: right;\n",
       "    }\n",
       "</style>\n",
       "<table border=\"1\" class=\"dataframe\">\n",
       "  <thead>\n",
       "    <tr style=\"text-align: right;\">\n",
       "      <th></th>\n",
       "      <th>采集时间</th>\n",
       "      <th>温度</th>\n",
       "      <th>湿度</th>\n",
       "    </tr>\n",
       "  </thead>\n",
       "  <tbody>\n",
       "    <tr>\n",
       "      <th>0</th>\n",
       "      <td>2021-05-04 00:00:00</td>\n",
       "      <td>27.39</td>\n",
       "      <td>39.95</td>\n",
       "    </tr>\n",
       "    <tr>\n",
       "      <th>1</th>\n",
       "      <td>2021-05-04 00:00:01</td>\n",
       "      <td>27.39</td>\n",
       "      <td>39.99</td>\n",
       "    </tr>\n",
       "    <tr>\n",
       "      <th>2</th>\n",
       "      <td>2021-05-04 00:00:02</td>\n",
       "      <td>27.41</td>\n",
       "      <td>39.99</td>\n",
       "    </tr>\n",
       "    <tr>\n",
       "      <th>3</th>\n",
       "      <td>2021-05-04 00:00:03</td>\n",
       "      <td>27.39</td>\n",
       "      <td>40.00</td>\n",
       "    </tr>\n",
       "    <tr>\n",
       "      <th>4</th>\n",
       "      <td>2021-05-04 00:00:04</td>\n",
       "      <td>27.39</td>\n",
       "      <td>40.02</td>\n",
       "    </tr>\n",
       "  </tbody>\n",
       "</table>\n",
       "</div>"
      ],
      "text/plain": [
       "                 采集时间     温度     湿度\n",
       "0 2021-05-04 00:00:00  27.39  39.95\n",
       "1 2021-05-04 00:00:01  27.39  39.99\n",
       "2 2021-05-04 00:00:02  27.41  39.99\n",
       "3 2021-05-04 00:00:03  27.39  40.00\n",
       "4 2021-05-04 00:00:04  27.39  40.02"
      ]
     },
     "execution_count": 6,
     "metadata": {},
     "output_type": "execute_result"
    }
   ],
   "source": [
    "# 数据类型转换\n",
    "def change_datatype(df):\n",
    "    #df[\"温度\"] = df[\"温度\"].apply(lambda x: np.array(x.split(\" \"), dtype = float))\n",
    "    #df[\"湿度\"] = df[\"湿度\"].apply(lambda x: np.array(x.split(\" \"), dtype = float))\n",
    "    df[\"采集时间\"] = df[\"采集时间\"].apply(lambda x: datetime.datetime.strptime(x,'%Y-%m-%d %H:%M:%S'))\n",
    "    return df\n",
    "df = change_datatype(df)\n",
    "df.head()"
   ]
  },
  {
   "cell_type": "markdown",
   "metadata": {},
   "source": [
    "# 2 数据预处理\n",
    " - 针对数据校验的结果，对数据进行进一步处理"
   ]
  },
  {
   "cell_type": "code",
   "execution_count": 7,
   "metadata": {},
   "outputs": [],
   "source": [
    "df.to_csv('..\\数据\\浦仪夹江大桥数据5.4\\disposed\\跨中温湿度.csv')"
   ]
  },
  {
   "cell_type": "markdown",
   "metadata": {},
   "source": [
    "#### 2.2 归一化"
   ]
  },
  {
   "cell_type": "code",
   "execution_count": 8,
   "metadata": {},
   "outputs": [],
   "source": [
    "disposed_df = pd.read_csv('..\\数据\\浦仪夹江大桥数据5.4\\disposed\\跨中温湿度.csv',index_col=False)\n",
    "del disposed_df['Unnamed: 0']\n",
    "disposed_df['class'] = np.array([i[:15] for i in disposed_df['采集时间'].values])\n",
    "disposed_df['采集时间'] = disposed_df[\"采集时间\"].apply(lambda x: datetime.datetime.strptime(x,'%Y-%m-%d %H:%M:%S')) \n",
    "\n",
    "# def normalization(df,columns=[]):\n",
    "#     for col in columns:\n",
    "#         df[columns] = df[columns] / (df[columns].max() - df[columns].min())\n",
    "#         df[columns] = df[columns] - df[columns].mean()\n",
    "#     return df\n",
    "\n",
    "# cols = ['主梁挠度']\n",
    "# disposed_df = normalization(disposed_df,cols)"
   ]
  },
  {
   "cell_type": "code",
   "execution_count": 9,
   "metadata": {},
   "outputs": [
    {
     "data": {
      "text/html": [
       "<div>\n",
       "<style scoped>\n",
       "    .dataframe tbody tr th:only-of-type {\n",
       "        vertical-align: middle;\n",
       "    }\n",
       "\n",
       "    .dataframe tbody tr th {\n",
       "        vertical-align: top;\n",
       "    }\n",
       "\n",
       "    .dataframe thead th {\n",
       "        text-align: right;\n",
       "    }\n",
       "</style>\n",
       "<table border=\"1\" class=\"dataframe\">\n",
       "  <thead>\n",
       "    <tr style=\"text-align: right;\">\n",
       "      <th></th>\n",
       "      <th>采集时间</th>\n",
       "      <th>温度</th>\n",
       "      <th>湿度</th>\n",
       "      <th>class</th>\n",
       "    </tr>\n",
       "  </thead>\n",
       "  <tbody>\n",
       "    <tr>\n",
       "      <th>0</th>\n",
       "      <td>2021-05-04 00:00:00</td>\n",
       "      <td>27.39</td>\n",
       "      <td>39.95</td>\n",
       "      <td>2021-05-04 00:0</td>\n",
       "    </tr>\n",
       "    <tr>\n",
       "      <th>1</th>\n",
       "      <td>2021-05-04 00:00:01</td>\n",
       "      <td>27.39</td>\n",
       "      <td>39.99</td>\n",
       "      <td>2021-05-04 00:0</td>\n",
       "    </tr>\n",
       "    <tr>\n",
       "      <th>2</th>\n",
       "      <td>2021-05-04 00:00:02</td>\n",
       "      <td>27.41</td>\n",
       "      <td>39.99</td>\n",
       "      <td>2021-05-04 00:0</td>\n",
       "    </tr>\n",
       "    <tr>\n",
       "      <th>3</th>\n",
       "      <td>2021-05-04 00:00:03</td>\n",
       "      <td>27.39</td>\n",
       "      <td>40.00</td>\n",
       "      <td>2021-05-04 00:0</td>\n",
       "    </tr>\n",
       "    <tr>\n",
       "      <th>4</th>\n",
       "      <td>2021-05-04 00:00:04</td>\n",
       "      <td>27.39</td>\n",
       "      <td>40.02</td>\n",
       "      <td>2021-05-04 00:0</td>\n",
       "    </tr>\n",
       "    <tr>\n",
       "      <th>...</th>\n",
       "      <td>...</td>\n",
       "      <td>...</td>\n",
       "      <td>...</td>\n",
       "      <td>...</td>\n",
       "    </tr>\n",
       "    <tr>\n",
       "      <th>170117</th>\n",
       "      <td>2021-05-05 23:58:43</td>\n",
       "      <td>26.97</td>\n",
       "      <td>40.88</td>\n",
       "      <td>2021-05-05 23:5</td>\n",
       "    </tr>\n",
       "    <tr>\n",
       "      <th>170118</th>\n",
       "      <td>2021-05-05 23:58:44</td>\n",
       "      <td>26.97</td>\n",
       "      <td>40.88</td>\n",
       "      <td>2021-05-05 23:5</td>\n",
       "    </tr>\n",
       "    <tr>\n",
       "      <th>170119</th>\n",
       "      <td>2021-05-05 23:58:45</td>\n",
       "      <td>26.97</td>\n",
       "      <td>40.88</td>\n",
       "      <td>2021-05-05 23:5</td>\n",
       "    </tr>\n",
       "    <tr>\n",
       "      <th>170120</th>\n",
       "      <td>2021-05-05 23:58:46</td>\n",
       "      <td>27.02</td>\n",
       "      <td>40.84</td>\n",
       "      <td>2021-05-05 23:5</td>\n",
       "    </tr>\n",
       "    <tr>\n",
       "      <th>170121</th>\n",
       "      <td>2021-05-05 23:58:47</td>\n",
       "      <td>27.00</td>\n",
       "      <td>NaN</td>\n",
       "      <td>2021-05-05 23:5</td>\n",
       "    </tr>\n",
       "  </tbody>\n",
       "</table>\n",
       "<p>170122 rows × 4 columns</p>\n",
       "</div>"
      ],
      "text/plain": [
       "                      采集时间     温度     湿度            class\n",
       "0      2021-05-04 00:00:00  27.39  39.95  2021-05-04 00:0\n",
       "1      2021-05-04 00:00:01  27.39  39.99  2021-05-04 00:0\n",
       "2      2021-05-04 00:00:02  27.41  39.99  2021-05-04 00:0\n",
       "3      2021-05-04 00:00:03  27.39  40.00  2021-05-04 00:0\n",
       "4      2021-05-04 00:00:04  27.39  40.02  2021-05-04 00:0\n",
       "...                    ...    ...    ...              ...\n",
       "170117 2021-05-05 23:58:43  26.97  40.88  2021-05-05 23:5\n",
       "170118 2021-05-05 23:58:44  26.97  40.88  2021-05-05 23:5\n",
       "170119 2021-05-05 23:58:45  26.97  40.88  2021-05-05 23:5\n",
       "170120 2021-05-05 23:58:46  27.02  40.84  2021-05-05 23:5\n",
       "170121 2021-05-05 23:58:47  27.00    NaN  2021-05-05 23:5\n",
       "\n",
       "[170122 rows x 4 columns]"
      ]
     },
     "execution_count": 9,
     "metadata": {},
     "output_type": "execute_result"
    }
   ],
   "source": [
    "disposed_df"
   ]
  },
  {
   "cell_type": "markdown",
   "metadata": {},
   "source": [
    "#### 2.3 原始数据可视化"
   ]
  },
  {
   "cell_type": "code",
   "execution_count": 16,
   "metadata": {},
   "outputs": [
    {
     "data": {
      "text/plain": [
       "Text(0.5, 1.0, '竖向位移')"
      ]
     },
     "execution_count": 16,
     "metadata": {},
     "output_type": "execute_result"
    },
    {
     "data": {
      "image/png": "[encoded data removed]",
      "text/plain": [
       "<Figure size 1080x360 with 1 Axes>"
      ]
     },
     "metadata": {
      "needs_background": "light"
     },
     "output_type": "display_data"
    }
   ],
   "source": [
    "#disposed_df['采集时间'] = disposed_df[\"采集时间\"].apply(lambda x: datetime.datetime.strptime(x,'%Y-%m-%d %H:%M:%S.%f')) \n",
    "disposed_df.index = disposed_df['采集时间']\n",
    "\n",
    "plt.rcParams['font.sans-serif']=['SimHei'] #用来正常显示中文标签\n",
    "plt.rcParams['axes.unicode_minus']=False #用来正常显示负号\n",
    "\n",
    "disposed_df[['主梁挠度']].plot(figsize=(15,5),alpha=0.8)\n",
    "plt.title('竖向位移')"
   ]
  },
  {
   "cell_type": "markdown",
   "metadata": {},
   "source": [
    "# 2 数据分析"
   ]
  },
  {
   "cell_type": "markdown",
   "metadata": {},
   "source": [
    "#### 2.1 以十分钟为单位划分数据集\n",
    " - 计算窗体时间内的平均Vx、Vy、Vz和平均风速的风向\n",
    " - 计算紊流度：\n",
    "     - Iu = sigma_vx/sqrt(vx^2+vy^2)\n",
    "     - Iv = sigma_vy/sqrt(vx^2+vy^2)\n",
    "     - Iw = sigma_vz/sqrt(vx^2+vy^2)"
   ]
  },
  {
   "cell_type": "code",
   "execution_count": 10,
   "metadata": {},
   "outputs": [],
   "source": [
    "def get_stats(df):\n",
    "    result = df.groupby('class').agg({'采集时间':min, '温度':np.mean, '湿度':np.mean}) \n",
    "    result.columns = ['采集时间','温度平均值','湿度平均值']\n",
    "    return result"
   ]
  },
  {
   "cell_type": "code",
   "execution_count": 11,
   "metadata": {},
   "outputs": [],
   "source": [
    "stats = get_stats(disposed_df)\n",
    "stats.reset_index(inplace=True)\n",
    "del stats['class']"
   ]
  },
  {
   "cell_type": "code",
   "execution_count": 12,
   "metadata": {},
   "outputs": [
    {
     "data": {
      "text/html": [
       "<div>\n",
       "<style scoped>\n",
       "    .dataframe tbody tr th:only-of-type {\n",
       "        vertical-align: middle;\n",
       "    }\n",
       "\n",
       "    .dataframe tbody tr th {\n",
       "        vertical-align: top;\n",
       "    }\n",
       "\n",
       "    .dataframe thead th {\n",
       "        text-align: right;\n",
       "    }\n",
       "</style>\n",
       "<table border=\"1\" class=\"dataframe\">\n",
       "  <thead>\n",
       "    <tr style=\"text-align: right;\">\n",
       "      <th></th>\n",
       "      <th>采集时间</th>\n",
       "      <th>温度平均值</th>\n",
       "      <th>湿度平均值</th>\n",
       "    </tr>\n",
       "  </thead>\n",
       "  <tbody>\n",
       "    <tr>\n",
       "      <th>0</th>\n",
       "      <td>2021-05-04 00:00:00</td>\n",
       "      <td>27.321650</td>\n",
       "      <td>40.413083</td>\n",
       "    </tr>\n",
       "    <tr>\n",
       "      <th>1</th>\n",
       "      <td>2021-05-04 00:10:00</td>\n",
       "      <td>27.083933</td>\n",
       "      <td>41.331600</td>\n",
       "    </tr>\n",
       "    <tr>\n",
       "      <th>2</th>\n",
       "      <td>2021-05-04 00:20:00</td>\n",
       "      <td>26.878850</td>\n",
       "      <td>41.929267</td>\n",
       "    </tr>\n",
       "    <tr>\n",
       "      <th>3</th>\n",
       "      <td>2021-05-04 00:30:00</td>\n",
       "      <td>26.697140</td>\n",
       "      <td>42.301973</td>\n",
       "    </tr>\n",
       "    <tr>\n",
       "      <th>4</th>\n",
       "      <td>2021-05-04 00:40:00</td>\n",
       "      <td>26.522643</td>\n",
       "      <td>42.512896</td>\n",
       "    </tr>\n",
       "    <tr>\n",
       "      <th>...</th>\n",
       "      <td>...</td>\n",
       "      <td>...</td>\n",
       "      <td>...</td>\n",
       "    </tr>\n",
       "    <tr>\n",
       "      <th>283</th>\n",
       "      <td>2021-05-05 23:10:00</td>\n",
       "      <td>27.650883</td>\n",
       "      <td>39.114917</td>\n",
       "    </tr>\n",
       "    <tr>\n",
       "      <th>284</th>\n",
       "      <td>2021-05-05 23:20:00</td>\n",
       "      <td>27.486900</td>\n",
       "      <td>39.413250</td>\n",
       "    </tr>\n",
       "    <tr>\n",
       "      <th>285</th>\n",
       "      <td>2021-05-05 23:30:00</td>\n",
       "      <td>27.335117</td>\n",
       "      <td>39.771083</td>\n",
       "    </tr>\n",
       "    <tr>\n",
       "      <th>286</th>\n",
       "      <td>2021-05-05 23:40:00</td>\n",
       "      <td>27.176304</td>\n",
       "      <td>40.274013</td>\n",
       "    </tr>\n",
       "    <tr>\n",
       "      <th>287</th>\n",
       "      <td>2021-05-05 23:50:00</td>\n",
       "      <td>27.032159</td>\n",
       "      <td>40.622998</td>\n",
       "    </tr>\n",
       "  </tbody>\n",
       "</table>\n",
       "<p>288 rows × 3 columns</p>\n",
       "</div>"
      ],
      "text/plain": [
       "                   采集时间      温度平均值      湿度平均值\n",
       "0   2021-05-04 00:00:00  27.321650  40.413083\n",
       "1   2021-05-04 00:10:00  27.083933  41.331600\n",
       "2   2021-05-04 00:20:00  26.878850  41.929267\n",
       "3   2021-05-04 00:30:00  26.697140  42.301973\n",
       "4   2021-05-04 00:40:00  26.522643  42.512896\n",
       "..                  ...        ...        ...\n",
       "283 2021-05-05 23:10:00  27.650883  39.114917\n",
       "284 2021-05-05 23:20:00  27.486900  39.413250\n",
       "285 2021-05-05 23:30:00  27.335117  39.771083\n",
       "286 2021-05-05 23:40:00  27.176304  40.274013\n",
       "287 2021-05-05 23:50:00  27.032159  40.622998\n",
       "\n",
       "[288 rows x 3 columns]"
      ]
     },
     "execution_count": 12,
     "metadata": {},
     "output_type": "execute_result"
    }
   ],
   "source": [
    "stats"
   ]
  },
  {
   "cell_type": "code",
   "execution_count": 13,
   "metadata": {},
   "outputs": [],
   "source": [
    "stats.to_csv('..\\数据\\浦仪夹江大桥数据5.4\\processed_data\\跨中温湿度.csv')"
   ]
  },
  {
   "cell_type": "code",
   "execution_count": null,
   "metadata": {},
   "outputs": [],
   "source": []
  }
 ],
 "metadata": {
  "kernelspec": {
   "display_name": "Python 3 (ipykernel)",
   "language": "python",
   "name": "python3"
  },
  "language_info": {
   "codemirror_mode": {
    "name": "ipython",
    "version": 3
   },
   "file_extension": ".py",
   "mimetype": "text/x-python",
   "name": "python",
   "nbconvert_exporter": "python",
   "pygments_lexer": "ipython3",
   "version": "3.8.5"
  }
 },
 "nbformat": 4,
 "nbformat_minor": 4
}
